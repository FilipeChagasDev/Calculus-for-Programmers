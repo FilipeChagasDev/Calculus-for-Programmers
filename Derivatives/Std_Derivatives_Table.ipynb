{
 "cells": [
  {
   "cell_type": "markdown",
   "metadata": {},
   "source": [
    "# Standart Derivatives Table\n",
    "This table contains the fundamental derivatives, which need to be known so that other functions can be derived.\n",
    "\n",
    "| $f(x)$ | $\\frac{df}{dx}$ |\n",
    "|--------|-----------------|\n",
    "| $k$ (constant) | $0$ |\n",
    "| $x$ | $1$ |\n",
    "| $x^k$ | $kx^{k-1}$ |\n",
    "| $e^x$ | $e^x$ |\n",
    "| $k^x$ | $k^x \\ln{k}$ |\n",
    "| $\\sqrt{x}$ | $\\frac{1}{2\\sqrt{x}}$ |\n",
    "| $\\ln{x}$ | $\\frac{1}{x}$ |\n",
    "| $\\log_k{x}$ | $\\frac{1}{x\\ln{k}}$ |\n",
    "| $\\sin{x}$ | $\\cos{x}$ |\n",
    "| $\\cos{x}$ | $-\\sin{x}$ |\n",
    "| $\\tan{x}$ | $\\sec^2{x}$ |\n",
    "| $\\arcsin{x}$ | $\\frac{1}{\\sqrt{1-x^2}}$ |\n",
    "| $\\arccos{x}$ | $-\\frac{1}{\\sqrt{1-x^2}}$ |\n",
    "| $\\arctan{x}$ | $\\frac{1}{1+x^2}$ |\n",
    "| $\\sinh{x}$ | $\\cosh{x}$ |\n",
    "| $\\cosh{x}$ | $\\sinh{x}$ |\n",
    "| $\\tanh{x}$ | $1 - \\tanh^2{x}$ |\n",
    "| $\\text{arsinh}{x}$ | $\\frac{1}{\\sqrt{x^2+1}}$ |\n",
    "| $\\text{arcosh}{x}$ | $\\frac{1}{\\sqrt{x^2-1}}$ |\n",
    "| $\\text{artanh}{x}$ | $\\frac{1}{1- x^2}$ |"
   ]
  },
  {
   "cell_type": "markdown",
   "metadata": {},
   "source": [
    "# Practice with Python\n",
    "## Symbolic derivatives with SymPy\n",
    "This practice consists of generating this same table using the symbolic mathematical package SymPy. The first step is to import the package."
   ]
  },
  {
   "cell_type": "code",
   "execution_count": 1,
   "metadata": {},
   "outputs": [],
   "source": [
    "from sympy import *"
   ]
  },
  {
   "cell_type": "markdown",
   "metadata": {},
   "source": [
    "Now, let's define the variables and symbolic constants that we will use, for that we use the Symbol class."
   ]
  },
  {
   "cell_type": "code",
   "execution_count": 2,
   "metadata": {},
   "outputs": [],
   "source": [
    "x = Symbol('x')\n",
    "k = Symbol('k')"
   ]
  },
  {
   "cell_type": "markdown",
   "metadata": {},
   "source": [
    "Now, let's define a list of functions $f(x)$."
   ]
  },
  {
   "cell_type": "code",
   "execution_count": 3,
   "metadata": {},
   "outputs": [],
   "source": [
    "functions = [\n",
    "    k,\n",
    "    x,\n",
    "    x**k,\n",
    "    exp(x),\n",
    "    k**x,\n",
    "    sqrt(x),\n",
    "    ln(x),\n",
    "    log(x, k),\n",
    "    sin(x),\n",
    "    cos(x),\n",
    "    tan(x),\n",
    "    asin(x),\n",
    "    acos(x),\n",
    "    atan(x),\n",
    "    sinh(x),\n",
    "    cosh(x),\n",
    "    tanh(x),\n",
    "    asinh(x),\n",
    "    acosh(x),\n",
    "    atanh(x)\n",
    "]"
   ]
  },
  {
   "cell_type": "markdown",
   "metadata": {},
   "source": [
    "Now, let's generate a table of symbolic derivatives. To derive SymPy's symbolic expressions we use **diff**."
   ]
  },
  {
   "cell_type": "code",
   "execution_count": 4,
   "metadata": {},
   "outputs": [
    {
     "name": "stdout",
     "output_type": "stream",
     "text": [
      "f(x) = k \t df/dx = 0\n",
      "f(x) = x \t df/dx = 1\n",
      "f(x) = x**k \t df/dx = k*x**k/x\n",
      "f(x) = exp(x) \t df/dx = exp(x)\n",
      "f(x) = k**x \t df/dx = k**x*log(k)\n",
      "f(x) = sqrt(x) \t df/dx = 1/(2*sqrt(x))\n",
      "f(x) = log(x) \t df/dx = 1/x\n",
      "f(x) = log(x)/log(k) \t df/dx = 1/(x*log(k))\n",
      "f(x) = sin(x) \t df/dx = cos(x)\n",
      "f(x) = cos(x) \t df/dx = -sin(x)\n",
      "f(x) = tan(x) \t df/dx = tan(x)**2 + 1\n",
      "f(x) = asin(x) \t df/dx = 1/sqrt(1 - x**2)\n",
      "f(x) = acos(x) \t df/dx = -1/sqrt(1 - x**2)\n",
      "f(x) = atan(x) \t df/dx = 1/(x**2 + 1)\n",
      "f(x) = sinh(x) \t df/dx = cosh(x)\n",
      "f(x) = cosh(x) \t df/dx = sinh(x)\n",
      "f(x) = tanh(x) \t df/dx = 1 - tanh(x)**2\n",
      "f(x) = asinh(x) \t df/dx = 1/sqrt(x**2 + 1)\n",
      "f(x) = acosh(x) \t df/dx = 1/sqrt(x**2 - 1)\n",
      "f(x) = atanh(x) \t df/dx = 1/(1 - x**2)\n"
     ]
    }
   ],
   "source": [
    "for function in functions:\n",
    "    derivative = diff(function, x)\n",
    "    print(f'f(x) = {function} \\t df/dx = {derivative}')"
   ]
  }
 ],
 "metadata": {
  "kernelspec": {
   "display_name": "Python 3",
   "language": "python",
   "name": "python3"
  },
  "language_info": {
   "codemirror_mode": {
    "name": "ipython",
    "version": 3
   },
   "file_extension": ".py",
   "mimetype": "text/x-python",
   "name": "python",
   "nbconvert_exporter": "python",
   "pygments_lexer": "ipython3",
   "version": "3.7.6"
  }
 },
 "nbformat": 4,
 "nbformat_minor": 4
}

{
 "cells": [
  {
   "cell_type": "markdown",
   "metadata": {},
   "source": [
    "# Cauchy-Euler Homogeneus Second Order ODE - Theory\n",
    "\n",
    "An Cauchy-Euler second order ODE has the following format:\n",
    "    \n",
    "$$x^2 \\frac{d^2 y}{dx^2} + px \\frac{dy}{dx} + qy(x)=0$$\n",
    "\n",
    "## The Equation's Solution\n",
    "\n",
    "The general solution $y(x)$ for this type of equation is a linear combination of two fundamental solutions $y_1(x)$ and $y_1(x)$:\n",
    "\n",
    "$$y(x) = c_1y_1(x) + c_2y_2(x)$$\n",
    "\n",
    "where $c_1$ and $c_2$ are constants that must be found by solving de initial value problem.\n",
    "\n",
    "The simplest way of solving Cauchy-Euler second order ODE is assuming the trial solution $y(x)=x^m$. For that, we have $y'(x)=mx^{m-1}$ and $y''(x)=m(m-1)x^{m-2}$, where $m$ is a constant that we must find.\n",
    "\n",
    "Substituting $y(x)$ and its derivatives in the equation, we have:\n",
    "\n",
    "$$x^2[m(m-1)x^{m-2}] + px(mx^{m-1}) + qx^m = 0$$\n",
    "\n",
    "Applying the distributive property, we have:\n",
    "\n",
    "$$m^2 x^2 x^{m-2} - m x^2 x^{m-2} + px(mx^{m-1}) + qx^m = 0$$\n",
    "\n",
    "Applying $x^{a-b} = x^a/x^b$, we have:\n",
    "\n",
    "$$m^2 \\frac{x^2 x^m}{x^2} - m \\frac{x^2 x^m}{x^2} + pmx \\frac{x^m}{x} + qx^m = 0$$\n",
    "\n",
    "Simplifying:\n",
    "\n",
    "$$m^2 x^m - m x^m + pm x^m + qx^m = 0$$\n",
    "\n",
    "Putting $x^m$ in evidence:\n",
    "\n",
    "$$x^m[m^2 + m(p-1) + q] = 0$$\n",
    "\n",
    "Assuming that for $x \\neq 0$ there is no $m \\in \\mathbb{C}$ which satisfacts $x^m = 0$, we have:\n",
    "\n",
    "$$m^2 + m(p-1) + q = 0$$\n",
    "\n",
    "Applying the quadratic formula, we have $m_1 = \\frac{1 -p + \\sqrt{\\Delta}}{2}$ and $m_2 = \\frac{1 -p - \\sqrt{\\Delta}}{2}$, where $\\Delta = (p-1)^2 - 4q$.\n",
    "\n",
    "### Fundamental and General Solutions\n",
    "\n",
    "The fundamental solutions  $y_1(x)$  and  $y_2(x)$  need to be linearly independent. This linear independence can be verified by the Wronskian. The characteristc equation can have two real roots, one real root or two complex roots, and there are a pair of fundamentally linearly independent solutions for each of these cases.\n",
    "\n",
    "#### Case $\\Delta > 0$\n",
    "\n",
    "In this case, $m_1, m_2 \\in \\mathbb{R}$ and $m_1 \\neq m_2$.\n",
    "\n",
    "The fundamental solutions are $y_1(x)=x^{m_1}$ and, $y_2(x)=x^{m_2}$.\n",
    "\n",
    "The general solution is:\n",
    "\n",
    "$$y(x) = c_1 x^{m_1} + c_2 x^{m_2}$$\n",
    "\n",
    "where $c_1, c_2 \\in \\mathbb{R}$.\n",
    "\n",
    "#### Case $\\Delta = 0$\n",
    "\n",
    "In this case, $m = m_1 = m_2$ and $m \\in \\mathbb{R}$.\n",
    "\n",
    "The fundamental solutions are $y_1(x)=x^{m}\\ln(x)$ and, $y_2(x)=x^{m}$.\n",
    "\n",
    "The general solution is:\n",
    "\n",
    "$$y(x) = c_1 x^{m} \\ln(x) + c_2 x^{m}$$\n",
    "\n",
    "where $c_1, c_2 \\in \\mathbb{R}$.\n",
    "\n",
    "#### Case $\\Delta < 0$\n",
    "\n",
    "In this case, $m_1, m_2 \\in \\mathbb{C}$. These roots are $m_1 = \\alpha + \\beta i$ and $m_2 = \\alpha - \\beta i$.\n",
    "\n",
    "The fundamental solutions are $y_1(x)=x^{m_1}$ and, $y_2(x)=x^{m_2}$. Applying $x^{a+b} = x^ax^b$, $e^{\\ln x} = x$ and $(x^a)^b = x^{ab}$, we have:\n",
    "\n",
    "$$y_1(x) = x^{m_1} = x^{\\alpha + \\beta i} = x^{\\alpha}x^{\\beta i} = x^{\\alpha}(e^{\\ln x})^{\\beta i} = x^{\\alpha} e^{i\\beta \\ln x }$$ \n",
    "\n",
    "and\n",
    "\n",
    "$$y_2(x) = x^{m_2} = x^{\\alpha - \\beta i} = x^{\\alpha}e^{-i\\beta  \\ln x}$$\n",
    "\n",
    "Applying Euler's indentity ($e^{i\\theta} = \\cos\\theta + i\\sin\\theta$), we have:\n",
    "\n",
    "$$y_1(x) = x^{\\alpha} [\\cos(\\beta \\ln x) + i\\sin(\\beta \\ln x)]$$ \n",
    "\n",
    "and \n",
    "\n",
    "$$y_2(x) = x^{\\alpha}[\\cos(\\beta  \\ln x) - i \\sin(\\beta  \\ln x)]$$\n",
    "\n",
    "Finally, the general solution is:\n",
    "\n",
    "$$y(x) = c_1 x^{m_1} + c_2 x^{m_2} = x^\\alpha [k_1 \\cos(\\beta \\ln x) + k_2 \\sin(\\beta \\ln x)]$$\n",
    "\n",
    "where $c_1, c_2, k_1, k_2$ are constants."
   ]
  },
  {
   "cell_type": "markdown",
   "metadata": {},
   "source": [
    "# Practice with Python\n",
    "\n",
    "## Solving the Cauchy-Euler Homogeneus Second-Order ODE\n",
    "In this practice, we will use the algebraic manipulation of the **SymPy** symbolic math package, numeric features of the **NumPy** package and the plotting from the **MatPlotLib** package. For first, we will import these packages."
   ]
  },
  {
   "cell_type": "code",
   "execution_count": 1,
   "metadata": {},
   "outputs": [],
   "source": [
    "from sympy import *\n",
    "from matplotlib import pyplot as plt\n",
    "import numpy as np"
   ]
  },
  {
   "cell_type": "markdown",
   "metadata": {},
   "source": [
    "Now, we gonna define a function to give the roots of the characteristic equation."
   ]
  },
  {
   "cell_type": "code",
   "execution_count": 2,
   "metadata": {},
   "outputs": [],
   "source": [
    "def get_characteristic_eq_roots(p, q):\n",
    "    m = Symbol('m') #Defines the unknown m\n",
    "\n",
    "    c_eq = Eq(m**2 + m*(p-1) + q, 0) #Gets SymPy's characteristic equation\n",
    "\n",
    "    c_eq_roots = solve(c_eq, m) #Gets the l roots of the c_eq \n",
    "    \n",
    "    return c_eq_roots"
   ]
  },
  {
   "cell_type": "markdown",
   "metadata": {},
   "source": [
    "This function returns a list of symbolic roots, that can be two real roots, a single real root or two complex roots. Look that at the following example:"
   ]
  },
  {
   "cell_type": "code",
   "execution_count": 3,
   "metadata": {},
   "outputs": [
    {
     "name": "stdout",
     "output_type": "stream",
     "text": [
      "Real roots (p=-3, q=2):  [2 - sqrt(2), sqrt(2) + 2]\n",
      "Complex roots (p=1, q=1):  [-I, I]\n",
      "Single root (p=3, q=1):  [-1]\n"
     ]
    }
   ],
   "source": [
    "print('Real roots (p=-3, q=2): ', get_characteristic_eq_roots(-3, 2))\n",
    "print('Complex roots (p=1, q=1): ', get_characteristic_eq_roots(1, 1))\n",
    "print('Single root (p=3, q=1): ', get_characteristic_eq_roots(3, 1))"
   ]
  },
  {
   "cell_type": "markdown",
   "metadata": {},
   "source": [
    "Now, we gonna define a function to give the fundamental solutions of the ODE."
   ]
  },
  {
   "cell_type": "code",
   "execution_count": 4,
   "metadata": {},
   "outputs": [],
   "source": [
    "def get_ODE_fundamental_solutions(x, p, q):\n",
    "    c_eq_roots = get_characteristic_eq_roots(p, q)\n",
    "    \n",
    "    if len(c_eq_roots) == 1:# Single real root\n",
    "        m = c_eq_roots[0] #Root lambda\n",
    "        \n",
    "        y1 = x**m #fundamental solution y1(x)\n",
    "        y2 = ln(x)*(x**m) #fundamental solution y2(x)\n",
    "        \n",
    "        return [y1, y2]\n",
    "    \n",
    "    elif len(c_eq_roots) == 2: #Two roots\n",
    "        if c_eq_roots[0].is_real == True and c_eq_roots[1].is_real == True: # Real roots\n",
    "            m1 = c_eq_roots[1] #Root lambda1\n",
    "            m2 = c_eq_roots[0] #Root lambda2\n",
    "            \n",
    "            y1 = x**m1 #fundamental solution y1(x)\n",
    "            y2 = x**m2 #fundamental solution y2(x)\n",
    "            \n",
    "            return [y1, y2]\n",
    "        \n",
    "        elif c_eq_roots[0].is_real == False and c_eq_roots[1].is_real == False: # Complex roots\n",
    "            m1 = c_eq_roots[1] #Root lambda1\n",
    "            m2 = c_eq_roots[0] #Root lambda2\n",
    "            \n",
    "            alpha = re(m1) #Real part of the roots\n",
    "            beta = abs(im(m1)) #Absolute imaginary part of the roots\n",
    "            \n",
    "            y1 = (x**alpha)*( cos(beta*ln(x)) + I*sin(beta*ln(x))) #fundamental solution y1(x)\n",
    "            y2 = (x**alpha)*( cos(beta*ln(x)) - I*sin(beta*ln(x))) #fundamental solution y2(x)\n",
    "            \n",
    "            return [y1, y2]\n",
    "        \n",
    "        else: #Error\n",
    "            raise Exception('Unexpected answer from the get_characteristic_eq_roots function.')\n",
    "        \n",
    "    else: #Error\n",
    "        raise Exception('Unexpected answer from the get_characteristic_eq_roots function.')"
   ]
  },
  {
   "cell_type": "markdown",
   "metadata": {},
   "source": [
    "This function returns a list of symbolic fundamental solutions. Look that at the following examples:"
   ]
  },
  {
   "cell_type": "code",
   "execution_count": 5,
   "metadata": {},
   "outputs": [
    {
     "name": "stdout",
     "output_type": "stream",
     "text": [
      "p=-3, q=2:  [x**(sqrt(2) + 2), x**(2 - sqrt(2))]\n",
      "p=1, q=1:  [I*sin(log(x)) + cos(log(x)), -I*sin(log(x)) + cos(log(x))]\n",
      "p=3, q=1:  [(I*sin(sqrt(3)*log(x)/2) + cos(sqrt(3)*log(x)/2))/sqrt(x), (-I*sin(sqrt(3)*log(x)/2) + cos(sqrt(3)*log(x)/2))/sqrt(x)]\n"
     ]
    }
   ],
   "source": [
    "x = Symbol('x')\n",
    "\n",
    "print('p=-3, q=2: ', get_ODE_fundamental_solutions(x, -3, 2))\n",
    "print('p=1, q=1: ', get_ODE_fundamental_solutions(x, 1, 1))\n",
    "print('p=3, q=1: ', get_ODE_fundamental_solutions(x, 2, 1))"
   ]
  },
  {
   "cell_type": "markdown",
   "metadata": {},
   "source": [
    "Now, we gonna define a function to give the symbolic general solution."
   ]
  },
  {
   "cell_type": "code",
   "execution_count": 6,
   "metadata": {},
   "outputs": [],
   "source": [
    "def get_ODE_solution(x, p, q, c1, c2):\n",
    "    fundamental_solutions = get_ODE_fundamental_solutions(x, p, q)\n",
    "    \n",
    "    y1 = fundamental_solutions[0] #Fundamental solution y1(x)\n",
    "    y2 = fundamental_solutions[1] #Fundamental solution y2(x)\n",
    "    \n",
    "    y = c1*y1 + c2*y2 #General solution y(x)\n",
    "    \n",
    "    return y"
   ]
  },
  {
   "cell_type": "markdown",
   "metadata": {},
   "source": [
    "Testing..."
   ]
  },
  {
   "cell_type": "code",
   "execution_count": 7,
   "metadata": {},
   "outputs": [
    {
     "name": "stdout",
     "output_type": "stream",
     "text": [
      "p=-3, q=2:  c1*x**(sqrt(2) + 2) + c2*x**(2 - sqrt(2))\n",
      "p=1, q=1:  c1*(I*sin(log(x)) + cos(log(x))) + c2*(-I*sin(log(x)) + cos(log(x)))\n",
      "p=2, q=1:  c1*(I*sin(sqrt(3)*log(x)/2) + cos(sqrt(3)*log(x)/2))/sqrt(x) + c2*(-I*sin(sqrt(3)*log(x)/2) + cos(sqrt(3)*log(x)/2))/sqrt(x)\n"
     ]
    }
   ],
   "source": [
    "x, c1, c2 = Symbol('x'), Symbol('c1'), Symbol('c2')\n",
    "\n",
    "print('p=-3, q=2: ', get_ODE_solution(x, -3, 2, c1, c2))\n",
    "print('p=1, q=1: ', get_ODE_solution(x, 1, 1, c1, c2))\n",
    "print('p=2, q=1: ', get_ODE_solution(x, 2, 1, c1, c2))"
   ]
  },
  {
   "cell_type": "markdown",
   "metadata": {},
   "source": [
    "Finally, we will define a function to give the $y(x)$ values for any $x$ input in the ODE solution."
   ]
  },
  {
   "cell_type": "code",
   "execution_count": 8,
   "metadata": {},
   "outputs": [],
   "source": [
    "def get_ODE_function(p, q, c1, c2):\n",
    "    x = Symbol('x')\n",
    "    \n",
    "    symbolic_solution = get_ODE_solution(x, p, q, c1, c2)\n",
    "    \n",
    "    y_function = lambdify(x, symbolic_solution)\n",
    "    \n",
    "    return y_function"
   ]
  },
  {
   "cell_type": "markdown",
   "metadata": {},
   "source": [
    "## Plotting $y(x)$\n",
    "Plotting $y(x)$ from $y''(x) - 3y'(x) + 2y(x) = 0$ with $c_1 = c_2 = 1$: "
   ]
  },
  {
   "cell_type": "code",
   "execution_count": 9,
   "metadata": {},
   "outputs": [
    {
     "data": {
      "image/png": "[encoded data removed]",
      "text/plain": [
       "<Figure size 432x288 with 1 Axes>"
      ]
     },
     "metadata": {
      "needs_background": "light"
     },
     "output_type": "display_data"
    }
   ],
   "source": [
    "p, q, c1, c2 = (-3, 2, 1, 1)\n",
    "y = get_ODE_function(p, q, c1, c2) #y(x) function\n",
    "x = np.linspace(0,20,500) #500 dots in [0, 20]\n",
    "plt.plot(x,y(x).real) #Plot the real part of y(x)\n",
    "plt.show()"
   ]
  },
  {
   "cell_type": "markdown",
   "metadata": {},
   "source": [
    "Plotting $y(x)$ from $y''(x) + 2y'(x) + 20y(x) = 0$ with $c_1 = c_2 = 1$: "
   ]
  },
  {
   "cell_type": "code",
   "execution_count": 10,
   "metadata": {},
   "outputs": [
    {
     "name": "stderr",
     "output_type": "stream",
     "text": [
      "<string>:2: RuntimeWarning: divide by zero encountered in log\n",
      "<string>:2: RuntimeWarning: invalid value encountered in sin\n",
      "<string>:2: RuntimeWarning: invalid value encountered in cos\n"
     ]
    },
    {
     "data": {
      "image/png": "[encoded data removed]",
      "text/plain": [
       "<Figure size 432x288 with 1 Axes>"
      ]
     },
     "metadata": {
      "needs_background": "light"
     },
     "output_type": "display_data"
    }
   ],
   "source": [
    "p, q, c1, c2 = (2, 20, 1, 1)\n",
    "y = get_ODE_function(p, q, c1, c2) #y(x) function\n",
    "x = np.linspace(0,20,500) #500 dots in [0, 20]\n",
    "plt.plot(x,y(x).real) #Plot the real part of y(x)\n",
    "plt.show()"
   ]
  },
  {
   "cell_type": "markdown",
   "metadata": {},
   "source": [
    "Plotting $y(x)$ from $y''(x) + y'(x) + 10y(x) = 0$ with $c_1 = c_2 = 1$: "
   ]
  },
  {
   "cell_type": "code",
   "execution_count": 11,
   "metadata": {},
   "outputs": [
    {
     "name": "stderr",
     "output_type": "stream",
     "text": [
      "<string>:2: RuntimeWarning: divide by zero encountered in log\n",
      "<string>:2: RuntimeWarning: invalid value encountered in cos\n"
     ]
    },
    {
     "data": {
      "image/png": "[encoded data removed]",
      "text/plain": [
       "<Figure size 432x288 with 1 Axes>"
      ]
     },
     "metadata": {
      "needs_background": "light"
     },
     "output_type": "display_data"
    }
   ],
   "source": [
    "p, q, c1, c2 = (1, 10, 1, 1)\n",
    "y = get_ODE_function(p, q, c1, c2) #y(x) function\n",
    "x = np.linspace(0,20,500) #500 dots in [0, 20]\n",
    "plt.plot(x,y(x).real) #Plot the real part of y(x)\n",
    "plt.show()"
   ]
  }
 ],
 "metadata": {
  "kernelspec": {
   "display_name": "Python 3",
   "language": "python",
   "name": "python3"
  },
  "language_info": {
   "codemirror_mode": {
    "name": "ipython",
    "version": 3
   },
   "file_extension": ".py",
   "mimetype": "text/x-python",
   "name": "python",
   "nbconvert_exporter": "python",
   "pygments_lexer": "ipython3",
   "version": "3.7.6"
  }
 },
 "nbformat": 4,
 "nbformat_minor": 4
}

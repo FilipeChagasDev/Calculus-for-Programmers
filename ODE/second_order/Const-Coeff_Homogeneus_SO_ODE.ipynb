{
 "cells": [
  {
   "cell_type": "markdown",
   "metadata": {},
   "source": [
    "# Constant-Coefficient Homogeneus Second Order ODE - Theory\n",
    "\n",
    "An constant-coefficient homogeneus linear second-order ODE has the following format:\n",
    "$$\\frac{d^2y}{dx^2}+p\\frac{dy}{dx}+qy(x) = 0$$\n",
    "where $p,q \\in \\mathbb{R}$.\n",
    "\n",
    "## The Equation's Solution\n",
    "The general solution $y(x)$ for this type of equation is a linear combination of two fundamental solutions $y_1(x)$ and $y_1(x)$:\n",
    "\n",
    "$$y(x) = c_1y_1(x) + c_2y_2(x)$$\n",
    "\n",
    "where $c_1$ and $c_2$ are constants that must be found by solving de initial value problem.\n",
    "\n",
    "In general, for this type of ODE, the fundamental solutions have the following format:\n",
    "$$y(x) = e^{\\lambda x}$$\n",
    "where $\\lambda_n \\in \\mathbb{C}$.\n",
    "\n",
    "### Characteristic Equation\n",
    "\n",
    "To find the $\\lambda$ for each of the two fundamental solutions, it is necessary to solve the following characteristic quadratic equation:\n",
    "\n",
    "$$\\lambda^2 e^{\\lambda x} + p \\lambda e^{\\lambda x} + q e^{\\lambda x} = 0$$\n",
    "\n",
    "This equation is obtained by replacing $y(x)$ with the assumed solution $e^{\\lambda x}$, and consequently its first derivative $y'(x)$ with $\\lambda e^x$ and its second derivative $y''(x)$ with $\\lambda^2 e^x$.\n",
    "\n",
    "It is equivalent to\n",
    "\n",
    "$$e^{\\lambda x} (\\lambda^2 + p \\lambda + q ) = 0$$\n",
    "\n",
    "Is fact that does not exists a $t \\in \\mathbb{C}$ which satisfacts $e^t = 0$, therefore:\n",
    "\n",
    "$$\\lambda^2 + p \\lambda + q = 0$$\n",
    "\n",
    "Applying the quadratic formula, we have $\\lambda_1 = \\frac{-p + \\sqrt{\\Delta}}{2}$ and $\\lambda_2 = \\frac{-p - \\sqrt{\\Delta}}{2}$, where $\\Delta = p^2 - 4q$.\n",
    "\n",
    "### Fundamental and General Solutions\n",
    "The fundamental solutions $y_1(x)$ and $y_2(x)$ need to be linearly independent. This linear independence can be verified by the Wronskian. The characteristc equation can have two real roots, one real root or two complex roots, and there are a pair of fundamentally linearly independent solutions for each of these cases.\n",
    "\n",
    "#### Case $\\Delta > 0$\n",
    "\n",
    "In this case, $\\lambda_1, \\lambda_2 \\in \\mathbb{R}$ and $\\lambda_1 \\neq \\lambda_2$.\n",
    "\n",
    "The fundamental solutions are $y_1(x)=e^{\\lambda_1 x}$ and, $y_2(x)=e^{\\lambda_2 x}$.\n",
    "\n",
    "The general solution is:\n",
    "\n",
    "$$y(x) = c_1 e^{\\lambda_1 x} + c_2 e^{\\lambda_2 x}$$\n",
    "\n",
    "where $c_1, c_2 \\in \\mathbb{R}$.\n",
    "\n",
    "#### Case $\\Delta = 0$\n",
    "\n",
    "In this case, $\\lambda = \\lambda_1 = \\lambda_2$ and $\\lambda \\in \\mathbb{R}$.\n",
    "\n",
    "The fundamental solutions are $y_1(x)= e^{\\lambda x}$ and $y_2(x)= x e^{\\lambda x}$.\n",
    "\n",
    "The general solution is:\n",
    "\n",
    "$$y(x) = c_1 e^{\\lambda x} + c_2 x e^{\\lambda x}$$\n",
    "\n",
    "where $c_1, c_2 \\in \\mathbb{R}$.\n",
    "\n",
    "#### Case $\\Delta < 0$\n",
    "\n",
    "In this case, $\\lambda_1, \\lambda_2 \\in \\mathbb{C}$. These roots are $\\lambda_1 = \\alpha + \\beta i$ and $\\lambda_2 = \\alpha - \\beta i$.\n",
    "\n",
    "The fundamental solutions are:\n",
    "\n",
    "$$y_1(x) = e^{\\lambda_1 x} = e^{x(\\alpha + \\beta i)} = e^{x \\alpha } e^{x \\beta i}$$\n",
    "\n",
    "and\n",
    "\n",
    "$$y_2(x) = e^{\\lambda_2 x} = e^{x(\\alpha - \\beta i)} = e^{x \\alpha } e^{-x \\beta i}$$\n",
    "\n",
    "By applying the Euler's indentity ($e^{i\\theta} = \\cos\\theta + i\\sin\\theta$), we find out:\n",
    "\n",
    "$$y_1(x) = e^{x \\alpha } e^{x \\beta i} = e^{x \\alpha } [\\cos(\\beta x) + i\\sin(\\beta x)]$$\n",
    "\n",
    "and\n",
    "\n",
    "$$y_2(x) = e^{x \\alpha } e^{-x \\beta i} = e^{x \\alpha } [\\cos(\\beta x) - i\\sin(\\beta x)] $$\n",
    "\n",
    "The general solution is therefore:\n",
    "\n",
    "$$y(x) = c_1 e^{\\lambda_1 x} + c_2 e^{\\lambda_2 x} = c_1 e^{x \\alpha } [\\cos(\\beta x) + i\\sin(\\beta x)] + c_2 e^{x \\alpha } [\\cos(\\beta x) - i\\sin(\\beta x)]  = e^{x \\alpha } [\\cos(\\beta x)(c_1 + c_2) + i\\sin(\\beta x)(c_1 - c_2)] $$\n",
    "\n",
    "where $c_1, c_2 \\in \\mathbb{R}$. \n",
    "\n",
    "Considering $k_1 = (c_1 + c_2)$ and $k_2 = i(c_1 - c_2)$, we have:\n",
    "\n",
    "$$y(x) = e^{x \\alpha } [k_1\\cos(\\beta x) + k_2\\sin(\\beta x)]$$"
   ]
  },
  {
   "cell_type": "markdown",
   "metadata": {},
   "source": [
    "# Practice with Python\n",
    "\n",
    "## Solving the Const-Coeff Homogeneus Second-Order ODE\n",
    "In this practice, we will use the algebraic manipulation of the **SymPy** symbolic math package, numeric features of the **NumPy** package and the plotting from the **MatPlotLib** package. For first, we will import these packages."
   ]
  },
  {
   "cell_type": "code",
   "execution_count": 1,
   "metadata": {},
   "outputs": [],
   "source": [
    "from sympy import *\n",
    "from matplotlib import pyplot as plt\n",
    "import numpy as np"
   ]
  },
  {
   "cell_type": "markdown",
   "metadata": {},
   "source": [
    "Now, we gonna define a function to give the roots of the characteristic equation."
   ]
  },
  {
   "cell_type": "code",
   "execution_count": 2,
   "metadata": {},
   "outputs": [],
   "source": [
    "def get_characteristic_eq_roots(p, q):\n",
    "    l = Symbol('l') #Defines the unknown l\n",
    "\n",
    "    c_eq = Eq(l**2 + p*l + q, 0) #Gets SymPy's characteristic equation\n",
    "\n",
    "    c_eq_roots = solve(c_eq, l) #Gets the l roots of the c_eq \n",
    "    \n",
    "    return c_eq_roots"
   ]
  },
  {
   "cell_type": "markdown",
   "metadata": {},
   "source": [
    "This function returns a list of symbolic roots, that can be two real roots, a single real root or two complex roots. Look that at the following example:"
   ]
  },
  {
   "cell_type": "code",
   "execution_count": 3,
   "metadata": {
    "scrolled": true
   },
   "outputs": [
    {
     "name": "stdout",
     "output_type": "stream",
     "text": [
      "Real roots (p=-3, q=2):  [1, 2]\n",
      "Complex roots (p=1, q=1):  [-1/2 - sqrt(3)*I/2, -1/2 + sqrt(3)*I/2]\n",
      "Single root (p=2, q=1):  [-1]\n"
     ]
    }
   ],
   "source": [
    "print('Real roots (p=-3, q=2): ', get_characteristic_eq_roots(-3, 2))\n",
    "print('Complex roots (p=1, q=1): ', get_characteristic_eq_roots(1, 1))\n",
    "print('Single root (p=2, q=1): ', get_characteristic_eq_roots(2, 1))"
   ]
  },
  {
   "cell_type": "markdown",
   "metadata": {},
   "source": [
    "Now, we gonna define a function to give the fundamental solutions of the ODE."
   ]
  },
  {
   "cell_type": "code",
   "execution_count": 4,
   "metadata": {},
   "outputs": [],
   "source": [
    "def get_ODE_fundamental_solutions(x, p, q):\n",
    "    c_eq_roots = get_characteristic_eq_roots(p, q)\n",
    "    \n",
    "    if len(c_eq_roots) == 1:# Single real root\n",
    "        l = c_eq_roots[0] #Root lambda\n",
    "        \n",
    "        y1 = exp(l*x) #fundamental solution y1(x)\n",
    "        y2 = x*exp(l*x) #fundamental solution y2(x)\n",
    "        \n",
    "        return [y1, y2]\n",
    "    \n",
    "    elif len(c_eq_roots) == 2: #Two roots\n",
    "        if c_eq_roots[0].is_real == True and c_eq_roots[1].is_real == True: # Real roots\n",
    "            l1 = c_eq_roots[1] #Root lambda1\n",
    "            l2 = c_eq_roots[0] #Root lambda2\n",
    "            \n",
    "            y1 = exp(l1*x) #fundamental solution y1(x)\n",
    "            y2 = exp(l2*x) #fundamental solution y2(x)\n",
    "            \n",
    "            return [y1, y2]\n",
    "        \n",
    "        elif c_eq_roots[0].is_real == False and c_eq_roots[1].is_real == False: # Complex roots\n",
    "            l1 = c_eq_roots[1] #Root lambda1\n",
    "            l2 = c_eq_roots[0] #Root lambda2\n",
    "            \n",
    "            alpha = re(l1) #Real part of the roots\n",
    "            beta = abs(im(l1)) #Absolute imaginary part of the roots\n",
    "            \n",
    "            y1 = exp(alpha*x)*( cos(beta*x) + I*sin(beta*x)) #fundamental solution y1(x)\n",
    "            y2 = exp(alpha*x)*( cos(beta*x) - I*sin(beta*x)) #fundamental solution y2(x)\n",
    "            \n",
    "            return [y1, y2]\n",
    "        \n",
    "        else: #Error\n",
    "            raise Exception('Unexpected answer from the get_characteristic_eq_roots function.')\n",
    "        \n",
    "    else: #Error\n",
    "        raise Exception('Unexpected answer from the get_characteristic_eq_roots function.')"
   ]
  },
  {
   "cell_type": "markdown",
   "metadata": {},
   "source": [
    "This function returns a list of symbolic fundamental solutions. Look that at the following examples:"
   ]
  },
  {
   "cell_type": "code",
   "execution_count": 5,
   "metadata": {},
   "outputs": [
    {
     "name": "stdout",
     "output_type": "stream",
     "text": [
      "p=-3, q=2:  [exp(2*x), exp(x)]\n",
      "p=1, q=1:  [(I*sin(sqrt(3)*x/2) + cos(sqrt(3)*x/2))*exp(-x/2), (-I*sin(sqrt(3)*x/2) + cos(sqrt(3)*x/2))*exp(-x/2)]\n",
      "p=2, q=1:  [exp(-x), x*exp(-x)]\n"
     ]
    }
   ],
   "source": [
    "x = Symbol('x')\n",
    "\n",
    "print('p=-3, q=2: ', get_ODE_fundamental_solutions(x, -3, 2))\n",
    "print('p=1, q=1: ', get_ODE_fundamental_solutions(x, 1, 1))\n",
    "print('p=2, q=1: ', get_ODE_fundamental_solutions(x, 2, 1))"
   ]
  },
  {
   "cell_type": "markdown",
   "metadata": {},
   "source": [
    "Now, we gonna define a function to give the symbolic general solution."
   ]
  },
  {
   "cell_type": "code",
   "execution_count": 6,
   "metadata": {},
   "outputs": [],
   "source": [
    "def get_ODE_solution(x, p, q, c1, c2):\n",
    "    fundamental_solutions = get_ODE_fundamental_solutions(x, p, q)\n",
    "    \n",
    "    y1 = fundamental_solutions[0] #Fundamental solution y1(x)\n",
    "    y2 = fundamental_solutions[1] #Fundamental solution y2(x)\n",
    "    \n",
    "    y = c1*y1 + c2*y2 #General solution y(x)\n",
    "    \n",
    "    return y"
   ]
  },
  {
   "cell_type": "markdown",
   "metadata": {},
   "source": [
    "Testing..."
   ]
  },
  {
   "cell_type": "code",
   "execution_count": 7,
   "metadata": {},
   "outputs": [
    {
     "name": "stdout",
     "output_type": "stream",
     "text": [
      "p=-3, q=2:  c1*exp(2*x) + c2*exp(x)\n",
      "p=1, q=1:  c1*(I*sin(sqrt(3)*x/2) + cos(sqrt(3)*x/2))*exp(-x/2) + c2*(-I*sin(sqrt(3)*x/2) + cos(sqrt(3)*x/2))*exp(-x/2)\n",
      "p=2, q=1:  c1*exp(-x) + c2*x*exp(-x)\n"
     ]
    }
   ],
   "source": [
    "x, c1, c2 = Symbol('x'), Symbol('c1'), Symbol('c2')\n",
    "\n",
    "print('p=-3, q=2: ', get_ODE_solution(x, -3, 2, c1, c2))\n",
    "print('p=1, q=1: ', get_ODE_solution(x, 1, 1, c1, c2))\n",
    "print('p=2, q=1: ', get_ODE_solution(x, 2, 1, c1, c2))"
   ]
  },
  {
   "cell_type": "markdown",
   "metadata": {},
   "source": [
    "Finally, we will define a function to give the $y(x)$ values for any $x$ input in the ODE solution."
   ]
  },
  {
   "cell_type": "code",
   "execution_count": 8,
   "metadata": {},
   "outputs": [],
   "source": [
    "def get_ODE_function(p, q, c1, c2):\n",
    "    x = Symbol('x')\n",
    "    \n",
    "    symbolic_solution = get_ODE_solution(x, p, q, c1, c2)\n",
    "    \n",
    "    y_function = lambdify(x, symbolic_solution)\n",
    "    \n",
    "    return y_function"
   ]
  },
  {
   "cell_type": "markdown",
   "metadata": {},
   "source": [
    "## Plotting $y(x)$\n",
    "Plotting $y(x)$ from $y''(x) + y'(x) + 10y(x) = 0$ with $c_1 = c_2 = 1$: "
   ]
  },
  {
   "cell_type": "code",
   "execution_count": 9,
   "metadata": {},
   "outputs": [
    {
     "data": {
      "image/png": "[encoded data removed]",
      "text/plain": [
       "<Figure size 432x288 with 1 Axes>"
      ]
     },
     "metadata": {
      "needs_background": "light"
     },
     "output_type": "display_data"
    }
   ],
   "source": [
    "p, q, c1, c2 = (1, 10, 1, 1)\n",
    "y = get_ODE_function(p, q, c1, c2) #y(x) function\n",
    "x = np.linspace(0,20,500) #500 dots in [0, 20]\n",
    "plt.plot(x,y(x).real) #Plot the real part of y(x)\n",
    "plt.show()"
   ]
  },
  {
   "cell_type": "markdown",
   "metadata": {},
   "source": [
    "Plotting $y(x)$ from $y''(x) + 10y'(x) + 10y(x) = 0$ with $c_1 = c_2 = 1$:"
   ]
  },
  {
   "cell_type": "code",
   "execution_count": 10,
   "metadata": {},
   "outputs": [
    {
     "data": {
      "image/png": "[encoded data removed]",
      "text/plain": [
       "<Figure size 432x288 with 1 Axes>"
      ]
     },
     "metadata": {
      "needs_background": "light"
     },
     "output_type": "display_data"
    }
   ],
   "source": [
    "p, q, c1, c2 = (10, 10, 1, 1)\n",
    "y = get_ODE_function(p, q, c1, c2) #y(x) function\n",
    "x = np.linspace(0,10,500) #500 dots in [0, 10]\n",
    "plt.plot(x,y(x).real) #Plot the real part of y(x)\n",
    "plt.show()"
   ]
  },
  {
   "cell_type": "markdown",
   "metadata": {},
   "source": [
    "Plotting $y(x)$ from $y''(x) + \\frac{y'(x)}{2} + y(x) = 0$ with $c_1=c_2=1$:"
   ]
  },
  {
   "cell_type": "code",
   "execution_count": 11,
   "metadata": {},
   "outputs": [
    {
     "data": {
      "image/png": "[encoded data removed]",
      "text/plain": [
       "<Figure size 432x288 with 1 Axes>"
      ]
     },
     "metadata": {
      "needs_background": "light"
     },
     "output_type": "display_data"
    }
   ],
   "source": [
    "p, q, c1, c2 = (1, 0.5, 1, 1)\n",
    "y = get_ODE_function(p, q, c1, c2) #y(x) function\n",
    "x = np.linspace(0,20,500) #500 dots in [0, 20]\n",
    "plt.plot(x,y(x).real) #Plot the real part of y(x)\n",
    "plt.show()"
   ]
  }
 ],
 "metadata": {
  "kernelspec": {
   "display_name": "Python 3",
   "language": "python",
   "name": "python3"
  },
  "language_info": {
   "codemirror_mode": {
    "name": "ipython",
    "version": 3
   },
   "file_extension": ".py",
   "mimetype": "text/x-python",
   "name": "python",
   "nbconvert_exporter": "python",
   "pygments_lexer": "ipython3",
   "version": "3.7.6"
  }
 },
 "nbformat": 4,
 "nbformat_minor": 4
}
